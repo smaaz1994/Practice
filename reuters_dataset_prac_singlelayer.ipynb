{
 "cells": [
  {
   "cell_type": "code",
   "execution_count": 69,
   "metadata": {},
   "outputs": [],
   "source": [
    "from keras.datasets import reuters"
   ]
  },
  {
   "cell_type": "code",
   "execution_count": 70,
   "metadata": {},
   "outputs": [],
   "source": [
    "(train_data, train_labels), (test_data, test_labels) = reuters.load_data(\n",
    "num_words=10000)"
   ]
  },
  {
   "cell_type": "code",
   "execution_count": 71,
   "metadata": {},
   "outputs": [],
   "source": [
    "#Preparing the data\n",
    "#Encoding \n",
    "\n",
    "import numpy as np\n",
    "def vectorize_sequences(sequences, dimension=10000):\n",
    "    results = np.zeros((len(sequences), dimension))\n",
    "    for i, sequence in enumerate(sequences):\n",
    "        results[i, sequence] = 1.\n",
    "    return results\n",
    "x_train = vectorize_sequences(train_data)\n",
    "x_test = vectorize_sequences(test_data)"
   ]
  },
  {
   "cell_type": "code",
   "execution_count": 72,
   "metadata": {},
   "outputs": [],
   "source": [
    "#One-hot encoding\n",
    "\n",
    "def to_one_hot(labels, dimension=46):\n",
    "    results = np.zeros((len(labels), dimension))\n",
    "    for i, label in enumerate(labels):\n",
    "        results[i, label] = 1.\n",
    "    return results\n",
    "one_hot_train_labels = to_one_hot(train_labels)\n",
    "one_hot_test_labels = to_one_hot(test_labels)\n",
    "\n",
    "from keras.utils.np_utils import to_categorical\n",
    "one_hot_train_labels = to_categorical(train_labels)\n",
    "one_hot_test_labels = to_categorical(test_labels)"
   ]
  },
  {
   "cell_type": "code",
   "execution_count": 73,
   "metadata": {},
   "outputs": [],
   "source": [
    "#Model Definition\n",
    "\n",
    "from keras import models\n",
    "from keras import layers\n",
    "model = models.Sequential()\n",
    "model.add(layers.Dense(64, activation='relu', input_shape=(10000,)))\n",
    "model.add(layers.Dense(64, activation='relu'))\n",
    "model.add(layers.Dense(46, activation='softmax'))"
   ]
  },
  {
   "cell_type": "code",
   "execution_count": 74,
   "metadata": {},
   "outputs": [],
   "source": [
    "#Compiling model\n",
    "\n",
    "model.compile(optimizer='rmsprop',\n",
    "                loss='categorical_crossentropy',\n",
    "                metrics=['accuracy'])"
   ]
  },
  {
   "cell_type": "code",
   "execution_count": 75,
   "metadata": {},
   "outputs": [],
   "source": [
    "#Setting aside a validation set\n",
    "\n",
    "x_val = x_train[:1000]\n",
    "partial_x_train = x_train[1000:]\n",
    "y_val = one_hot_train_labels[:1000]\n",
    "partial_y_train = one_hot_train_labels[1000:]"
   ]
  },
  {
   "cell_type": "code",
   "execution_count": 76,
   "metadata": {},
   "outputs": [
    {
     "name": "stdout",
     "output_type": "stream",
     "text": [
      "Train on 7982 samples, validate on 1000 samples\n",
      "Epoch 1/20\n",
      "7982/7982 [==============================] - 2s 248us/step - loss: 2.5829 - accuracy: 0.5321 - val_loss: 1.6936 - val_accuracy: 0.6410\n",
      "Epoch 2/20\n",
      "7982/7982 [==============================] - 2s 199us/step - loss: 1.3782 - accuracy: 0.7055 - val_loss: 1.2930 - val_accuracy: 0.7160\n",
      "Epoch 3/20\n",
      "7982/7982 [==============================] - 1s 187us/step - loss: 1.0325 - accuracy: 0.7759 - val_loss: 1.1245 - val_accuracy: 0.7550\n",
      "Epoch 4/20\n",
      "7982/7982 [==============================] - 1s 186us/step - loss: 0.8093 - accuracy: 0.8279 - val_loss: 1.0259 - val_accuracy: 0.7730\n",
      "Epoch 5/20\n",
      "7982/7982 [==============================] - 1s 184us/step - loss: 0.6443 - accuracy: 0.8637 - val_loss: 0.9806 - val_accuracy: 0.7870\n",
      "Epoch 6/20\n",
      "7982/7982 [==============================] - 1s 186us/step - loss: 0.5149 - accuracy: 0.8935 - val_loss: 0.9087 - val_accuracy: 0.8070\n",
      "Epoch 7/20\n",
      "7982/7982 [==============================] - 1s 180us/step - loss: 0.4094 - accuracy: 0.9147 - val_loss: 0.9011 - val_accuracy: 0.8080\n",
      "Epoch 8/20\n",
      "7982/7982 [==============================] - 1s 167us/step - loss: 0.3327 - accuracy: 0.9288 - val_loss: 0.8980 - val_accuracy: 0.8120\n",
      "Epoch 9/20\n",
      "7982/7982 [==============================] - 1s 172us/step - loss: 0.2740 - accuracy: 0.9395 - val_loss: 0.9024 - val_accuracy: 0.8140\n",
      "Epoch 10/20\n",
      "7982/7982 [==============================] - 1s 169us/step - loss: 0.2338 - accuracy: 0.9440 - val_loss: 0.8856 - val_accuracy: 0.8160\n",
      "Epoch 11/20\n",
      "7982/7982 [==============================] - 1s 169us/step - loss: 0.2021 - accuracy: 0.9469 - val_loss: 0.8975 - val_accuracy: 0.8180\n",
      "Epoch 12/20\n",
      "7982/7982 [==============================] - 1s 169us/step - loss: 0.1831 - accuracy: 0.9493 - val_loss: 0.9458 - val_accuracy: 0.8030\n",
      "Epoch 13/20\n",
      "7982/7982 [==============================] - 1s 174us/step - loss: 0.1601 - accuracy: 0.9533 - val_loss: 1.0209 - val_accuracy: 0.7940\n",
      "Epoch 14/20\n",
      "7982/7982 [==============================] - 1s 165us/step - loss: 0.1481 - accuracy: 0.9555 - val_loss: 0.9400 - val_accuracy: 0.8100\n",
      "Epoch 15/20\n",
      "7982/7982 [==============================] - 1s 174us/step - loss: 0.1357 - accuracy: 0.9563 - val_loss: 0.9842 - val_accuracy: 0.8030\n",
      "Epoch 16/20\n",
      "7982/7982 [==============================] - 1s 159us/step - loss: 0.1319 - accuracy: 0.9569 - val_loss: 0.9859 - val_accuracy: 0.8100\n",
      "Epoch 17/20\n",
      "7982/7982 [==============================] - 1s 157us/step - loss: 0.1260 - accuracy: 0.9567 - val_loss: 1.0645 - val_accuracy: 0.7980\n",
      "Epoch 18/20\n",
      "7982/7982 [==============================] - 1s 158us/step - loss: 0.1143 - accuracy: 0.9592 - val_loss: 1.0558 - val_accuracy: 0.7970\n",
      "Epoch 19/20\n",
      "7982/7982 [==============================] - 1s 159us/step - loss: 0.1128 - accuracy: 0.9587 - val_loss: 1.1259 - val_accuracy: 0.7900\n",
      "Epoch 20/20\n",
      "7982/7982 [==============================] - 1s 159us/step - loss: 0.1133 - accuracy: 0.9562 - val_loss: 1.0449 - val_accuracy: 0.8080\n"
     ]
    }
   ],
   "source": [
    "#Training the model\n",
    "\n",
    "history = model.fit(partial_x_train,\n",
    "                    partial_y_train,\n",
    "                    epochs=20,\n",
    "                    batch_size=512,\n",
    "                    validation_data=(x_val, y_val))"
   ]
  },
  {
   "cell_type": "code",
   "execution_count": 77,
   "metadata": {},
   "outputs": [
    {
     "data": {
      "image/png": "[encoded data removed]",
      "text/plain": [
       "<Figure size 432x288 with 1 Axes>"
      ]
     },
     "metadata": {
      "needs_background": "light"
     },
     "output_type": "display_data"
    }
   ],
   "source": [
    "#Plotting the training and validation loss\n",
    "\n",
    "import matplotlib.pyplot as plt\n",
    "loss = history.history['loss']\n",
    "val_loss = history.history['val_loss']\n",
    "epochs = range(1, len(loss) + 1)\n",
    "plt.plot(epochs, loss, 'bo', label='Training loss')\n",
    "plt.plot(epochs, val_loss, 'b', label='Validation loss')\n",
    "plt.title('Training and validation loss')\n",
    "plt.xlabel('Epochs')\n",
    "plt.ylabel('Loss')\n",
    "plt.legend()\n",
    "plt.show()"
   ]
  },
  {
   "cell_type": "code",
   "execution_count": 78,
   "metadata": {},
   "outputs": [
    {
     "data": {
      "image/png": "[encoded data removed]",
      "text/plain": [
       "<Figure size 432x288 with 1 Axes>"
      ]
     },
     "metadata": {
      "needs_background": "light"
     },
     "output_type": "display_data"
    }
   ],
   "source": [
    "plt.clf()\n",
    "acc = history.history['accuracy']\n",
    "val_acc = history.history['val_accuracy']\n",
    "plt.plot(epochs, acc, 'bo', label='Training acc')\n",
    "plt.plot(epochs, val_acc, 'b', label='Validation acc')\n",
    "plt.title('Training and validation accuracy')\n",
    "plt.xlabel('Epochs')\n",
    "plt.ylabel('Loss')\n",
    "plt.legend()\n",
    "plt.show()"
   ]
  },
  {
   "cell_type": "code",
   "execution_count": 79,
   "metadata": {},
   "outputs": [
    {
     "name": "stdout",
     "output_type": "stream",
     "text": [
      "Train on 7982 samples, validate on 1000 samples\n",
      "Epoch 1/9\n",
      "7982/7982 [==============================] - 1s 181us/step - loss: 2.6083 - accuracy: 0.5375 - val_loss: 1.7086 - val_accuracy: 0.6360\n",
      "Epoch 2/9\n",
      "7982/7982 [==============================] - 1s 170us/step - loss: 1.4113 - accuracy: 0.7087 - val_loss: 1.3246 - val_accuracy: 0.7120\n",
      "Epoch 3/9\n",
      "7982/7982 [==============================] - 1s 176us/step - loss: 1.0490 - accuracy: 0.7764 - val_loss: 1.1367 - val_accuracy: 0.7580\n",
      "Epoch 4/9\n",
      "7982/7982 [==============================] - 1s 160us/step - loss: 0.8293 - accuracy: 0.8251 - val_loss: 1.0298 - val_accuracy: 0.7930\n",
      "Epoch 5/9\n",
      "7982/7982 [==============================] - 1s 162us/step - loss: 0.6633 - accuracy: 0.8641 - val_loss: 0.9720 - val_accuracy: 0.7990\n",
      "Epoch 6/9\n",
      "7982/7982 [==============================] - 1s 162us/step - loss: 0.5301 - accuracy: 0.8921 - val_loss: 0.9177 - val_accuracy: 0.8100\n",
      "Epoch 7/9\n",
      "7982/7982 [==============================] - 1s 163us/step - loss: 0.4246 - accuracy: 0.9136 - val_loss: 0.8977 - val_accuracy: 0.8080\n",
      "Epoch 8/9\n",
      "7982/7982 [==============================] - 1s 164us/step - loss: 0.3480 - accuracy: 0.9258 - val_loss: 0.8922 - val_accuracy: 0.8120\n",
      "Epoch 9/9\n",
      "7982/7982 [==============================] - 1s 165us/step - loss: 0.2917 - accuracy: 0.9375 - val_loss: 0.8983 - val_accuracy: 0.8120\n",
      "2246/2246 [==============================] - 0s 181us/step\n"
     ]
    }
   ],
   "source": [
    "#Retraining a model from scratch\n",
    "\n",
    "model = models.Sequential()\n",
    "model.add(layers.Dense(64, activation='relu', input_shape=(10000,)))\n",
    "model.add(layers.Dense(64, activation='relu'))\n",
    "model.add(layers.Dense(46, activation='softmax'))\n",
    "model.compile(optimizer='rmsprop',\n",
    "                loss='categorical_crossentropy',\n",
    "                metrics=['accuracy'])\n",
    "model.fit(partial_x_train,\n",
    "            partial_y_train,\n",
    "            epochs=9,\n",
    "            batch_size=512,\n",
    "            validation_data=(x_val, y_val))\n",
    "results = model.evaluate(x_test, one_hot_test_labels)"
   ]
  },
  {
   "cell_type": "code",
   "execution_count": 80,
   "metadata": {},
   "outputs": [
    {
     "data": {
      "text/plain": [
       "[0.9640655574900491, 0.7876224517822266]"
      ]
     },
     "execution_count": 80,
     "metadata": {},
     "output_type": "execute_result"
    }
   ],
   "source": [
    "#final results:\n",
    "\n",
    "results"
   ]
  },
  {
   "cell_type": "markdown",
   "metadata": {},
   "source": [
    "This approach reaches an accuracy of ~80%. With a balanced binary classification\n",
    "problem, the accuracy reached by a purely random classifier would be 50%. But in\n",
    "this case it’s closer to 19%, so the results seem pretty good, at least when compared to\n",
    "a random baseline:"
   ]
  },
  {
   "cell_type": "code",
   "execution_count": 81,
   "metadata": {},
   "outputs": [],
   "source": [
    "import copy"
   ]
  },
  {
   "cell_type": "code",
   "execution_count": 82,
   "metadata": {},
   "outputs": [],
   "source": [
    "test_labels_copy = copy.copy(test_labels)"
   ]
  },
  {
   "cell_type": "code",
   "execution_count": 83,
   "metadata": {},
   "outputs": [],
   "source": [
    "np.random.shuffle(test_labels_copy)"
   ]
  },
  {
   "cell_type": "code",
   "execution_count": 84,
   "metadata": {},
   "outputs": [],
   "source": [
    " hits_array = np.array(test_labels) == np.array(test_labels_copy)"
   ]
  },
  {
   "cell_type": "code",
   "execution_count": 85,
   "metadata": {},
   "outputs": [
    {
     "data": {
      "text/plain": [
       "0.19545859305431879"
      ]
     },
     "execution_count": 85,
     "metadata": {},
     "output_type": "execute_result"
    }
   ],
   "source": [
    "float(np.sum(hits_array)) / len(test_labels)"
   ]
  },
  {
   "cell_type": "code",
   "execution_count": 86,
   "metadata": {},
   "outputs": [],
   "source": [
    "#Generating predictions on new data\n",
    "\n",
    "predictions = model.predict(x_test)"
   ]
  },
  {
   "cell_type": "code",
   "execution_count": 87,
   "metadata": {},
   "outputs": [
    {
     "data": {
      "text/plain": [
       "(46,)"
      ]
     },
     "execution_count": 87,
     "metadata": {},
     "output_type": "execute_result"
    }
   ],
   "source": [
    "predictions[0].shape"
   ]
  },
  {
   "cell_type": "code",
   "execution_count": 88,
   "metadata": {},
   "outputs": [
    {
     "data": {
      "text/plain": [
       "1.0"
      ]
     },
     "execution_count": 88,
     "metadata": {},
     "output_type": "execute_result"
    }
   ],
   "source": [
    "np.sum(predictions[0])"
   ]
  },
  {
   "cell_type": "code",
   "execution_count": 89,
   "metadata": {},
   "outputs": [
    {
     "data": {
      "text/plain": [
       "3"
      ]
     },
     "execution_count": 89,
     "metadata": {},
     "output_type": "execute_result"
    }
   ],
   "source": [
    " np.argmax(predictions[0])"
   ]
  },
  {
   "cell_type": "code",
   "execution_count": null,
   "metadata": {},
   "outputs": [],
   "source": []
  }
 ],
 "metadata": {
  "kernelspec": {
   "display_name": "Python 3",
   "language": "python",
   "name": "python3"
  },
  "language_info": {
   "codemirror_mode": {
    "name": "ipython",
    "version": 3
   },
   "file_extension": ".py",
   "mimetype": "text/x-python",
   "name": "python",
   "nbconvert_exporter": "python",
   "pygments_lexer": "ipython3",
   "version": "3.7.4"
  }
 },
 "nbformat": 4,
 "nbformat_minor": 2
}
