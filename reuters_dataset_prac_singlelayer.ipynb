{
 "cells": [
  {
   "cell_type": "code",
   "execution_count": 1,
   "metadata": {},
   "outputs": [
    {
     "name": "stderr",
     "output_type": "stream",
     "text": [
      "Using TensorFlow backend.\n"
     ]
    }
   ],
   "source": [
    "from keras.datasets import reuters"
   ]
  },
  {
   "cell_type": "code",
   "execution_count": 2,
   "metadata": {},
   "outputs": [],
   "source": [
    "(train_data, train_labels), (test_data, test_labels) = reuters.load_data(\n",
    "num_words=10000)"
   ]
  },
  {
   "cell_type": "code",
   "execution_count": 3,
   "metadata": {},
   "outputs": [],
   "source": [
    "#Preparing the data\n",
    "#Encoding \n",
    "\n",
    "import numpy as np\n",
    "def vectorize_sequences(sequences, dimension=10000):\n",
    "    results = np.zeros((len(sequences), dimension))\n",
    "    for i, sequence in enumerate(sequences):\n",
    "        results[i, sequence] = 1.\n",
    "    return results\n",
    "x_train = vectorize_sequences(train_data)\n",
    "x_test = vectorize_sequences(test_data)"
   ]
  },
  {
   "cell_type": "code",
   "execution_count": 4,
   "metadata": {},
   "outputs": [],
   "source": [
    "#One-hot encoding\n",
    "\n",
    "def to_one_hot(labels, dimension=46):\n",
    "    results = np.zeros((len(labels), dimension))\n",
    "    for i, label in enumerate(labels):\n",
    "        results[i, label] = 1.\n",
    "    return results\n",
    "one_hot_train_labels = to_one_hot(train_labels)\n",
    "one_hot_test_labels = to_one_hot(test_labels)\n",
    "\n",
    "from keras.utils.np_utils import to_categorical\n",
    "one_hot_train_labels = to_categorical(train_labels)\n",
    "one_hot_test_labels = to_categorical(test_labels)"
   ]
  },
  {
   "cell_type": "code",
   "execution_count": 5,
   "metadata": {},
   "outputs": [],
   "source": [
    "#Model Definition (using single layer)\n",
    "\n",
    "from keras import models\n",
    "from keras import layers\n",
    "model = models.Sequential()\n",
    "model.add(layers.Dense(64, activation='relu', input_shape=(10000,)))\n",
    "model.add(layers.Dense(46, activation='softmax'))"
   ]
  },
  {
   "cell_type": "code",
   "execution_count": 6,
   "metadata": {},
   "outputs": [],
   "source": [
    "#Compiling model\n",
    "\n",
    "model.compile(optimizer='rmsprop',\n",
    "                loss='categorical_crossentropy',\n",
    "                metrics=['accuracy'])"
   ]
  },
  {
   "cell_type": "code",
   "execution_count": 7,
   "metadata": {},
   "outputs": [],
   "source": [
    "#Setting aside a validation set\n",
    "\n",
    "x_val = x_train[:1000]\n",
    "partial_x_train = x_train[1000:]\n",
    "y_val = one_hot_train_labels[:1000]\n",
    "partial_y_train = one_hot_train_labels[1000:]"
   ]
  },
  {
   "cell_type": "code",
   "execution_count": 8,
   "metadata": {},
   "outputs": [
    {
     "name": "stdout",
     "output_type": "stream",
     "text": [
      "Train on 7982 samples, validate on 1000 samples\n",
      "Epoch 1/20\n",
      "7982/7982 [==============================] - 1s 167us/step - loss: 2.6988 - accuracy: 0.5786 - val_loss: 1.9230 - val_accuracy: 0.6590\n",
      "Epoch 2/20\n",
      "7982/7982 [==============================] - 1s 136us/step - loss: 1.5529 - accuracy: 0.7205 - val_loss: 1.3908 - val_accuracy: 0.7210\n",
      "Epoch 3/20\n",
      "7982/7982 [==============================] - 1s 138us/step - loss: 1.1066 - accuracy: 0.7791 - val_loss: 1.1497 - val_accuracy: 0.7710\n",
      "Epoch 4/20\n",
      "7982/7982 [==============================] - 1s 141us/step - loss: 0.8515 - accuracy: 0.8302 - val_loss: 1.0204 - val_accuracy: 0.7920\n",
      "Epoch 5/20\n",
      "7982/7982 [==============================] - 1s 136us/step - loss: 0.6777 - accuracy: 0.8663 - val_loss: 0.9431 - val_accuracy: 0.8010\n",
      "Epoch 6/20\n",
      "7982/7982 [==============================] - 1s 136us/step - loss: 0.5534 - accuracy: 0.8933 - val_loss: 0.8890 - val_accuracy: 0.8130\n",
      "Epoch 7/20\n",
      "7982/7982 [==============================] - 1s 136us/step - loss: 0.4570 - accuracy: 0.9121 - val_loss: 0.8503 - val_accuracy: 0.8250\n",
      "Epoch 8/20\n",
      "7982/7982 [==============================] - 1s 139us/step - loss: 0.3809 - accuracy: 0.9240 - val_loss: 0.8291 - val_accuracy: 0.8240\n",
      "Epoch 9/20\n",
      "7982/7982 [==============================] - 1s 137us/step - loss: 0.3220 - accuracy: 0.9341 - val_loss: 0.8286 - val_accuracy: 0.8250\n",
      "Epoch 10/20\n",
      "7982/7982 [==============================] - 1s 145us/step - loss: 0.2738 - accuracy: 0.9412 - val_loss: 0.8210 - val_accuracy: 0.8230\n",
      "Epoch 11/20\n",
      "7982/7982 [==============================] - 1s 136us/step - loss: 0.2358 - accuracy: 0.9449 - val_loss: 0.8189 - val_accuracy: 0.8270\n",
      "Epoch 12/20\n",
      "7982/7982 [==============================] - 1s 135us/step - loss: 0.2054 - accuracy: 0.9493 - val_loss: 0.8310 - val_accuracy: 0.8320\n",
      "Epoch 13/20\n",
      "7982/7982 [==============================] - 1s 135us/step - loss: 0.1846 - accuracy: 0.9515 - val_loss: 0.8408 - val_accuracy: 0.8290\n",
      "Epoch 14/20\n",
      "7982/7982 [==============================] - 1s 136us/step - loss: 0.1653 - accuracy: 0.9544 - val_loss: 0.8418 - val_accuracy: 0.8280\n",
      "Epoch 15/20\n",
      "7982/7982 [==============================] - 1s 137us/step - loss: 0.1514 - accuracy: 0.9529 - val_loss: 0.8487 - val_accuracy: 0.8270\n",
      "Epoch 16/20\n",
      "7982/7982 [==============================] - 1s 137us/step - loss: 0.1412 - accuracy: 0.9555 - val_loss: 0.8704 - val_accuracy: 0.8180\n",
      "Epoch 17/20\n",
      "7982/7982 [==============================] - 1s 139us/step - loss: 0.1296 - accuracy: 0.9559 - val_loss: 0.8795 - val_accuracy: 0.8180\n",
      "Epoch 18/20\n",
      "7982/7982 [==============================] - 1s 138us/step - loss: 0.1218 - accuracy: 0.9567 - val_loss: 0.9174 - val_accuracy: 0.8140\n",
      "Epoch 19/20\n",
      "7982/7982 [==============================] - 1s 139us/step - loss: 0.1157 - accuracy: 0.9570 - val_loss: 0.9175 - val_accuracy: 0.8130\n",
      "Epoch 20/20\n",
      "7982/7982 [==============================] - 1s 139us/step - loss: 0.1107 - accuracy: 0.9575 - val_loss: 0.9177 - val_accuracy: 0.8130\n"
     ]
    }
   ],
   "source": [
    "#Training the model\n",
    "\n",
    "history = model.fit(partial_x_train,\n",
    "                    partial_y_train,\n",
    "                    epochs=20,\n",
    "                    batch_size=512,\n",
    "                    validation_data=(x_val, y_val))"
   ]
  },
  {
   "cell_type": "code",
   "execution_count": 22,
   "metadata": {},
   "outputs": [
    {
     "data": {
      "image/png": "[encoded data removed]",
      "text/plain": [
       "<Figure size 432x288 with 1 Axes>"
      ]
     },
     "metadata": {
      "needs_background": "light"
     },
     "output_type": "display_data"
    }
   ],
   "source": [
    "#Plotting the training and validation loss\n",
    "\n",
    "import matplotlib.pyplot as plt\n",
    "loss = history.history['loss']\n",
    "val_loss = history.history['val_loss']\n",
    "epochs = range(1, len(loss) + 1)\n",
    "plt.plot(epochs, loss, 'bo', label='Training loss')\n",
    "plt.plot(epochs, val_loss, 'b', label='Validation loss')\n",
    "plt.title('Training and validation loss')\n",
    "plt.xlabel('Epochs')\n",
    "plt.ylabel('Loss')\n",
    "plt.legend()\n",
    "plt.show()"
   ]
  },
  {
   "cell_type": "code",
   "execution_count": 10,
   "metadata": {},
   "outputs": [
    {
     "data": {
      "image/png": "[encoded data removed]",
      "text/plain": [
       "<Figure size 432x288 with 1 Axes>"
      ]
     },
     "metadata": {
      "needs_background": "light"
     },
     "output_type": "display_data"
    }
   ],
   "source": [
    "plt.clf()\n",
    "acc = history.history['accuracy']\n",
    "val_acc = history.history['val_accuracy']\n",
    "plt.plot(epochs, acc, 'bo', label='Training acc')\n",
    "plt.plot(epochs, val_acc, 'b', label='Validation acc')\n",
    "plt.title('Training and validation accuracy')\n",
    "plt.xlabel('Epochs')\n",
    "plt.ylabel('Loss')\n",
    "plt.legend()\n",
    "plt.show()"
   ]
  },
  {
   "cell_type": "code",
   "execution_count": 24,
   "metadata": {},
   "outputs": [
    {
     "name": "stdout",
     "output_type": "stream",
     "text": [
      "Train on 7982 samples, validate on 1000 samples\n",
      "Epoch 1/9\n",
      "7982/7982 [==============================] - 1s 144us/step - loss: 2.6431 - accuracy: 0.5433 - val_loss: 1.8473 - val_accuracy: 0.6490\n",
      "Epoch 2/9\n",
      "7982/7982 [==============================] - 1s 159us/step - loss: 1.4968 - accuracy: 0.7160 - val_loss: 1.3588 - val_accuracy: 0.7230\n",
      "Epoch 3/9\n",
      "7982/7982 [==============================] - 1s 142us/step - loss: 1.0824 - accuracy: 0.7843 - val_loss: 1.1379 - val_accuracy: 0.7640\n",
      "Epoch 4/9\n",
      "7982/7982 [==============================] - 1s 149us/step - loss: 0.8413 - accuracy: 0.8300 - val_loss: 1.0169 - val_accuracy: 0.8000\n",
      "Epoch 5/9\n",
      "7982/7982 [==============================] - 1s 138us/step - loss: 0.6731 - accuracy: 0.8672 - val_loss: 0.9392 - val_accuracy: 0.8150\n",
      "Epoch 6/9\n",
      "7982/7982 [==============================] - 1s 138us/step - loss: 0.5479 - accuracy: 0.8935 - val_loss: 0.8928 - val_accuracy: 0.8170\n",
      "Epoch 7/9\n",
      "7982/7982 [==============================] - 1s 138us/step - loss: 0.4536 - accuracy: 0.9094 - val_loss: 0.8603 - val_accuracy: 0.8240\n",
      "Epoch 8/9\n",
      "7982/7982 [==============================] - 1s 140us/step - loss: 0.3772 - accuracy: 0.9226 - val_loss: 0.8402 - val_accuracy: 0.8160\n",
      "Epoch 9/9\n",
      "7982/7982 [==============================] - 1s 139us/step - loss: 0.3172 - accuracy: 0.9345 - val_loss: 0.8273 - val_accuracy: 0.8270\n",
      "2246/2246 [==============================] - 0s 132us/step\n"
     ]
    }
   ],
   "source": [
    "#Retraining a model from scratch\n",
    "\n",
    "model = models.Sequential()\n",
    "model.add(layers.Dense(64, activation='relu', input_shape=(10000,)))\n",
    "model.add(layers.Dense(46, activation='softmax'))\n",
    "model.compile(optimizer='rmsprop',\n",
    "                loss='categorical_crossentropy',\n",
    "                metrics=['accuracy'])\n",
    "model.fit(partial_x_train,\n",
    "            partial_y_train,\n",
    "            epochs=9,\n",
    "            batch_size=512,\n",
    "            validation_data=(x_val, y_val))\n",
    "results = model.evaluate(x_test, one_hot_test_labels)"
   ]
  },
  {
   "cell_type": "code",
   "execution_count": 25,
   "metadata": {},
   "outputs": [
    {
     "data": {
      "text/plain": [
       "[0.9101515366154278, 0.7951914668083191]"
      ]
     },
     "execution_count": 25,
     "metadata": {},
     "output_type": "execute_result"
    }
   ],
   "source": [
    "#final results:\n",
    "\n",
    "results"
   ]
  },
  {
   "cell_type": "markdown",
   "metadata": {},
   "source": [
    "This approach reaches an accuracy of ~80%. With a balanced binary classification\n",
    "problem, the accuracy reached by a purely random classifier would be 50%. But in\n",
    "this case it’s closer to 19%, so the results seem pretty good, at least when compared to\n",
    "a random baseline:"
   ]
  },
  {
   "cell_type": "code",
   "execution_count": 26,
   "metadata": {},
   "outputs": [],
   "source": [
    "import copy"
   ]
  },
  {
   "cell_type": "code",
   "execution_count": 27,
   "metadata": {},
   "outputs": [],
   "source": [
    "test_labels_copy = copy.copy(test_labels)"
   ]
  },
  {
   "cell_type": "code",
   "execution_count": 28,
   "metadata": {},
   "outputs": [],
   "source": [
    "np.random.shuffle(test_labels_copy)"
   ]
  },
  {
   "cell_type": "code",
   "execution_count": 29,
   "metadata": {},
   "outputs": [],
   "source": [
    " hits_array = np.array(test_labels) == np.array(test_labels_copy)"
   ]
  },
  {
   "cell_type": "code",
   "execution_count": 30,
   "metadata": {},
   "outputs": [
    {
     "data": {
      "text/plain": [
       "0.19946571682991987"
      ]
     },
     "execution_count": 30,
     "metadata": {},
     "output_type": "execute_result"
    }
   ],
   "source": [
    "float(np.sum(hits_array)) / len(test_labels)"
   ]
  },
  {
   "cell_type": "code",
   "execution_count": 31,
   "metadata": {},
   "outputs": [],
   "source": [
    "#Generating predictions on new data\n",
    "\n",
    "predictions = model.predict(x_test)"
   ]
  },
  {
   "cell_type": "code",
   "execution_count": 32,
   "metadata": {},
   "outputs": [
    {
     "data": {
      "text/plain": [
       "(46,)"
      ]
     },
     "execution_count": 32,
     "metadata": {},
     "output_type": "execute_result"
    }
   ],
   "source": [
    "predictions[0].shape"
   ]
  },
  {
   "cell_type": "code",
   "execution_count": 33,
   "metadata": {},
   "outputs": [
    {
     "data": {
      "text/plain": [
       "1.0000001"
      ]
     },
     "execution_count": 33,
     "metadata": {},
     "output_type": "execute_result"
    }
   ],
   "source": [
    "np.sum(predictions[0])"
   ]
  },
  {
   "cell_type": "code",
   "execution_count": 34,
   "metadata": {},
   "outputs": [
    {
     "data": {
      "text/plain": [
       "3"
      ]
     },
     "execution_count": 34,
     "metadata": {},
     "output_type": "execute_result"
    }
   ],
   "source": [
    " np.argmax(predictions[0])"
   ]
  },
  {
   "cell_type": "code",
   "execution_count": null,
   "metadata": {},
   "outputs": [],
   "source": []
  }
 ],
 "metadata": {
  "kernelspec": {
   "display_name": "Python 3",
   "language": "python",
   "name": "python3"
  },
  "language_info": {
   "codemirror_mode": {
    "name": "ipython",
    "version": 3
   },
   "file_extension": ".py",
   "mimetype": "text/x-python",
   "name": "python",
   "nbconvert_exporter": "python",
   "pygments_lexer": "ipython3",
   "version": "3.7.4"
  }
 },
 "nbformat": 4,
 "nbformat_minor": 2
}
